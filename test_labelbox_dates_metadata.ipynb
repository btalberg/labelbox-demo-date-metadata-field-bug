{
 "cells": [
  {
   "cell_type": "code",
   "execution_count": 26,
   "outputs": [
    {
     "data": {
      "text/plain": "True"
     },
     "execution_count": 26,
     "metadata": {},
     "output_type": "execute_result"
    }
   ],
   "source": [
    "from datetime import datetime\n",
    "import logging\n",
    "import os\n",
    "import time\n",
    "import uuid\n",
    "\n",
    "import dotenv\n",
    "import labelbox as lb\n",
    "import tenacity\n",
    "\n",
    "dotenv.load_dotenv(dotenv_path=\"./.env\")\n"
   ],
   "metadata": {
    "collapsed": false,
    "ExecuteTime": {
     "end_time": "2023-08-08T16:08:34.146678Z",
     "start_time": "2023-08-08T16:08:34.135107Z"
    }
   },
   "id": "initial_id"
  },
  {
   "cell_type": "markdown",
   "source": [
    "## Setup"
   ],
   "metadata": {
    "collapsed": false
   },
   "id": "fef425f10de9abac"
  },
  {
   "cell_type": "code",
   "execution_count": 27,
   "outputs": [],
   "source": [
    "logging.basicConfig(level=logging.INFO)"
   ],
   "metadata": {
    "collapsed": false,
    "ExecuteTime": {
     "end_time": "2023-08-08T16:08:36.441393Z",
     "start_time": "2023-08-08T16:08:36.437033Z"
    }
   },
   "id": "71e5f90dc1557a02"
  },
  {
   "cell_type": "code",
   "execution_count": 28,
   "outputs": [],
   "source": [
    "LABELBOX_API_KEY = os.getenv('LABELBOX_API_KEY')"
   ],
   "metadata": {
    "collapsed": false,
    "ExecuteTime": {
     "end_time": "2023-08-08T16:08:36.860753Z",
     "start_time": "2023-08-08T16:08:36.858470Z"
    }
   },
   "id": "5fab63e8df419f7d"
  },
  {
   "cell_type": "markdown",
   "source": [
    "Establish our date time object for testing"
   ],
   "metadata": {
    "collapsed": false
   },
   "id": "5e1ebf8f5f96dd4f"
  },
  {
   "cell_type": "code",
   "execution_count": 29,
   "outputs": [
    {
     "name": "stderr",
     "output_type": "stream",
     "text": [
      "INFO:root:Example date (notice the milliseconds): '2023-08-07 09:00:05.450000+00:00'\n"
     ]
    }
   ],
   "source": [
    "test_video_path = \"./big_buck_bunny_snippet.mp4\"\n",
    "\n",
    "example_date = datetime.fromisoformat('2023-08-07 09:00:05.450+00:00')\n",
    "logging.info(f\"Example date (notice the milliseconds): '{example_date}'\")"
   ],
   "metadata": {
    "collapsed": false,
    "ExecuteTime": {
     "end_time": "2023-08-08T16:08:40.804803Z",
     "start_time": "2023-08-08T16:08:40.801908Z"
    }
   },
   "id": "8460b8fa342288d2"
  },
  {
   "cell_type": "markdown",
   "source": [
    "## Config Labelbox client"
   ],
   "metadata": {
    "collapsed": false
   },
   "id": "e362623d022a7a90"
  },
  {
   "cell_type": "code",
   "execution_count": 30,
   "outputs": [
    {
     "name": "stderr",
     "output_type": "stream",
     "text": [
      "INFO:labelbox.client:Initializing Labelbox client at 'https://api.labelbox.com/graphql'\n"
     ]
    }
   ],
   "source": [
    "client = lb.Client(api_key=LABELBOX_API_KEY)"
   ],
   "metadata": {
    "collapsed": false,
    "ExecuteTime": {
     "end_time": "2023-08-08T16:08:42.407119Z",
     "start_time": "2023-08-08T16:08:42.404195Z"
    }
   },
   "id": "bab2b54525264d97"
  },
  {
   "cell_type": "markdown",
   "source": [
    "## Create schema w/ CustomMetadataDateTime field"
   ],
   "metadata": {
    "collapsed": false
   },
   "id": "9ad5c03ab166c901"
  },
  {
   "cell_type": "code",
   "execution_count": 31,
   "outputs": [
    {
     "name": "stderr",
     "output_type": "stream",
     "text": [
      "INFO:root:datetime_test metadata field already exists\n",
      "INFO:root:datetime_test field type = DataRowMetadataKind.datetime\n"
     ]
    }
   ],
   "source": [
    "mdo = client.get_data_row_metadata_ontology()\n",
    "\n",
    "\n",
    "def is_valid_metadata(name: str):\n",
    "    try:\n",
    "        return mdo.get_by_name(name=name)\n",
    "    except:\n",
    "        return None\n",
    "\n",
    "meta_data_field = is_valid_metadata(name='datetime_test')\n",
    "if meta_data_field is not None:\n",
    "    logging.info(\"datetime_test metadata field already exists\")\n",
    "    logging.info(f\"datetime_test field type = {meta_data_field.kind}\")\n",
    "    if meta_data_field.kind != lb.schema.data_row_metadata.DataRowMetadataKind.datetime:\n",
    "        raise ValueError(\"Invalid test, the datetime_test should be DataRowMetadataKind\")\n",
    "else:\n",
    "    metadata_schema_video_start = mdo.create_schema(\n",
    "        name='datetime_test',\n",
    "        kind=lb.schema.data_row_metadata.DataRowMetadataKind('CustomMetadataDateTime')\n",
    "    )\n",
    "    logging.info(\"Created the datetime_test metadata field\")\n"
   ],
   "metadata": {
    "collapsed": false,
    "ExecuteTime": {
     "end_time": "2023-08-08T16:08:44.623225Z",
     "start_time": "2023-08-08T16:08:43.068959Z"
    }
   },
   "id": "d15d12a6638df517"
  },
  {
   "cell_type": "markdown",
   "source": [
    "## Prepare single video datarow with time field/value"
   ],
   "metadata": {
    "collapsed": false
   },
   "id": "f728906401efe48d"
  },
  {
   "cell_type": "code",
   "execution_count": 32,
   "outputs": [],
   "source": [
    "datarows = list()"
   ],
   "metadata": {
    "collapsed": false,
    "ExecuteTime": {
     "end_time": "2023-08-08T16:08:44.628283Z",
     "start_time": "2023-08-08T16:08:44.624175Z"
    }
   },
   "id": "39a45d33b6a4230"
  },
  {
   "cell_type": "code",
   "execution_count": 33,
   "outputs": [
    {
     "name": "stderr",
     "output_type": "stream",
     "text": [
      "INFO:root:Uploading video file...\n",
      "INFO:root:Uploaded video file\n",
      "INFO:root:Datarows staged with CustomMetadataDateTime field set to 2023-08-07 09:00:05.450000+00:00\n"
     ]
    }
   ],
   "source": [
    "@tenacity.retry(stop=tenacity.stop_after_attempt(3))\n",
    "def upload_video_wrapper(video_path):\n",
    "    return client.upload_file(video_path)\n",
    "\n",
    "\n",
    "logging.info(f\"Uploading video file...\")\n",
    "video_url = upload_video_wrapper(test_video_path)\n",
    "logging.info(\"Uploaded video file\")\n",
    "\n",
    "uid = str(uuid.uuid4())\n",
    "datarows.append({\n",
    "    lb.DataRow.row_data: video_url,\n",
    "    lb.DataRow.external_id: uid,\n",
    "    lb.DataRow.global_key: uid,\n",
    "    lb.DataRow.metadata_fields: [\n",
    "        lb.DataRowMetadataField(name='datetime_test', value=example_date)\n",
    "    ]\n",
    "})\n",
    "\n",
    "logging.info(f\"Datarows staged with CustomMetadataDateTime field set to {example_date}\")"
   ],
   "metadata": {
    "collapsed": false,
    "ExecuteTime": {
     "end_time": "2023-08-08T16:08:45.400756Z",
     "start_time": "2023-08-08T16:08:44.628186Z"
    }
   },
   "id": "aef6bece2b12b4c0"
  },
  {
   "cell_type": "markdown",
   "source": [
    "## Create the Dataset"
   ],
   "metadata": {
    "collapsed": false
   },
   "id": "1d3bd0d39b449a15"
  },
  {
   "cell_type": "code",
   "execution_count": 34,
   "outputs": [
    {
     "name": "stderr",
     "output_type": "stream",
     "text": [
      "INFO:root:Dataset already exists, clearing the dataset's datarow for testing purposes\n"
     ]
    },
    {
     "data": {
      "text/plain": "<Dataset ID: cll1g23du08ht073m84j4avt1>"
     },
     "execution_count": 34,
     "metadata": {},
     "output_type": "execute_result"
    }
   ],
   "source": [
    "dataset_name = \"Test Labelbox MetaData Field\"\n",
    "\n",
    "dataset = None\n",
    "try:\n",
    "    dataset = client.get_datasets(where=lb.Dataset.name == dataset_name).get_one()\n",
    "    \n",
    "    logging.info(\"Dataset already exists, clearing the dataset's datarow for testing purposes\")\n",
    "    lb.DataRow.bulk_delete(data_rows=list(dataset.data_rows()))\n",
    "except Exception as e:\n",
    "    pass\n",
    "\n",
    "if dataset is None:\n",
    "    dataset = client.create_dataset(\n",
    "        iam_integration=None,\n",
    "        name=dataset_name,\n",
    "        description=f\"A simple test dataset for experimenting with Labelbox's date metadata field\"\n",
    "    )\n",
    "    logging.info(\"Created dataset\")\n",
    "\n",
    "dataset"
   ],
   "metadata": {
    "collapsed": false,
    "ExecuteTime": {
     "end_time": "2023-08-08T16:08:46.082034Z",
     "start_time": "2023-08-08T16:08:45.399060Z"
    }
   },
   "id": "688d5925e86daa6f"
  },
  {
   "cell_type": "markdown",
   "source": [
    "## Upload the video (the datarows) to the Dataset"
   ],
   "metadata": {
    "collapsed": false
   },
   "id": "3c8b4485245d37c8"
  },
  {
   "cell_type": "code",
   "execution_count": 35,
   "outputs": [],
   "source": [
    "create_task = dataset.create_data_rows(datarows)"
   ],
   "metadata": {
    "collapsed": false,
    "ExecuteTime": {
     "end_time": "2023-08-08T16:08:47.000714Z",
     "start_time": "2023-08-08T16:08:46.079919Z"
    }
   },
   "id": "b93621265f080021"
  },
  {
   "cell_type": "code",
   "execution_count": 36,
   "outputs": [],
   "source": [
    "create_task.wait_till_done()"
   ],
   "metadata": {
    "collapsed": false,
    "ExecuteTime": {
     "end_time": "2023-08-08T16:08:49.379560Z",
     "start_time": "2023-08-08T16:08:47.000637Z"
    }
   },
   "id": "dc7db5d2c6b4723a"
  },
  {
   "cell_type": "code",
   "execution_count": 37,
   "outputs": [
    {
     "data": {
      "text/plain": "'COMPLETE'"
     },
     "execution_count": 37,
     "metadata": {},
     "output_type": "execute_result"
    }
   ],
   "source": [
    "create_task.status"
   ],
   "metadata": {
    "collapsed": false,
    "ExecuteTime": {
     "end_time": "2023-08-08T16:08:49.387657Z",
     "start_time": "2023-08-08T16:08:49.382346Z"
    }
   },
   "id": "7cf8fd0edd3bf37d"
  },
  {
   "cell_type": "code",
   "execution_count": 38,
   "outputs": [],
   "source": [
    "create_task.errors"
   ],
   "metadata": {
    "collapsed": false,
    "ExecuteTime": {
     "end_time": "2023-08-08T16:08:49.387861Z",
     "start_time": "2023-08-08T16:08:49.386028Z"
    }
   },
   "id": "fba448a22f89611"
  },
  {
   "cell_type": "code",
   "execution_count": 39,
   "outputs": [
    {
     "name": "stderr",
     "output_type": "stream",
     "text": [
      "INFO:root:Sleeping for 30 seconds so we can wait for things to sync on Labelbox servers\n"
     ]
    }
   ],
   "source": [
    "logging.info(\"Sleeping for 30 seconds so we can wait for things to sync on Labelbox servers\")\n",
    "time.sleep(30)"
   ],
   "metadata": {
    "collapsed": false,
    "ExecuteTime": {
     "end_time": "2023-08-08T16:09:19.402233Z",
     "start_time": "2023-08-08T16:08:49.388837Z"
    }
   },
   "id": "db6ce8fe7cd0e1c5"
  },
  {
   "cell_type": "markdown",
   "source": [
    "## Export the dataset and prepare to check the date value"
   ],
   "metadata": {
    "collapsed": false
   },
   "id": "de273b650b0f4680"
  },
  {
   "cell_type": "code",
   "execution_count": 40,
   "outputs": [
    {
     "name": "stderr",
     "output_type": "stream",
     "text": [
      "INFO:root:[{'data_row': {'id': 'cll2hxk4g0071074u0q81g783', 'external_id': 'f90e94d3-f21f-4722-8e2c-50ccce1fc8c5', 'global_key': 'f90e94d3-f21f-4722-8e2c-50ccce1fc8c5', 'row_data': 'https://storage.labelbox.com/ck94eylfhyxkp0976giowy90g%2Ff9f42846-9726-93f2-4e6e-2b6dcc502b94-big_buck_bunny_snippet.mp4?Expires=1691597360286&KeyName=labelbox-assets-key-3&Signature=Zh4o-e0C-iBMe3Q7xEMITGsAHo4', 'details': {'dataset_id': 'cll1g23du08ht073m84j4avt1', 'dataset_name': 'Test Labelbox MetaData Field', 'created_at': '2023-08-08T16:08:46.000+00:00', 'updated_at': '2023-08-08T16:08:46.000+00:00', 'last_activity_at': '2023-08-08T16:08:46.698+00:00', 'created_by': 'ben.talberg@wildflowerschools.org'}}, 'media_attributes': {'height': 720, 'width': 1280, 'mime_type': 'video/mp4'}, 'attachments': [], 'metadata_fields': [{'schema_id': 'cll1eyeqg07ah073md56ifiy8', 'schema_name': 'datetime_test', 'value': '2023-08-07T09:00:05.000+00:00'}]}]\n"
     ]
    }
   ],
   "source": [
    "# set the export params to include/exclude certain fields\n",
    "export_params={\n",
    "    \"attachments\": True,\n",
    "    \"metadata_fields\": True,\n",
    "    \"data_row_details\": True,\n",
    "    \"project_details\": True,\n",
    "    \"performance_details\": True,\n",
    "}\n",
    "\n",
    "# get a dataset\n",
    "dataset = client.get_dataset(dataset.uid)\n",
    "\n",
    "# run the export task\n",
    "export_task = dataset.export_v2(params=export_params)\n",
    "export_task.wait_till_done()\n",
    "\n",
    "# view errors and results\n",
    "if export_task.errors:\n",
    "    logging.error(export_task.errors)\n",
    "\n",
    "export_json = export_task.result\n",
    "logging.info(export_json)"
   ],
   "metadata": {
    "collapsed": false,
    "ExecuteTime": {
     "end_time": "2023-08-08T16:09:24.753522Z",
     "start_time": "2023-08-08T16:09:19.406489Z"
    }
   },
   "id": "3e48ef8b4038ebe5"
  },
  {
   "cell_type": "markdown",
   "source": [
    "## Test"
   ],
   "metadata": {
    "collapsed": false
   },
   "id": "ad38eb0d1991f2e4"
  },
  {
   "cell_type": "code",
   "execution_count": 41,
   "outputs": [],
   "source": [
    "datetime_test_field = export_json[0]['metadata_fields'][0]\n",
    "\n",
    "datetime_test_field_value_raw = datetime_test_field['value']\n",
    "datetime_test_field_value_as_date = datetime.fromisoformat(datetime_test_field_value_raw)"
   ],
   "metadata": {
    "collapsed": false,
    "ExecuteTime": {
     "end_time": "2023-08-08T16:09:24.760042Z",
     "start_time": "2023-08-08T16:09:24.755628Z"
    }
   },
   "id": "9bbde92d906eb4eb"
  },
  {
   "cell_type": "markdown",
   "source": [
    "Assert the `example_date` value we started with equals the value we fetched from Labelbox"
   ],
   "metadata": {
    "collapsed": false
   },
   "id": "1e2bd9e567d6ab37"
  },
  {
   "cell_type": "code",
   "execution_count": 42,
   "outputs": [
    {
     "name": "stderr",
     "output_type": "stream",
     "text": [
      "INFO:root:Expect the meta data date field to contain millisecond information\n"
     ]
    },
    {
     "ename": "AssertionError",
     "evalue": "",
     "output_type": "error",
     "traceback": [
      "\u001B[0;31m---------------------------------------------------------------------------\u001B[0m",
      "\u001B[0;31mAssertionError\u001B[0m                            Traceback (most recent call last)",
      "Cell \u001B[0;32mIn[42], line 2\u001B[0m\n\u001B[1;32m      1\u001B[0m logging\u001B[38;5;241m.\u001B[39minfo(\u001B[38;5;124mf\u001B[39m\u001B[38;5;124m\"\u001B[39m\u001B[38;5;124mExpect the meta data date field to contain millisecond information\u001B[39m\u001B[38;5;124m\"\u001B[39m)\n\u001B[0;32m----> 2\u001B[0m \u001B[38;5;28;01massert\u001B[39;00m datetime_test_field_value_as_date \u001B[38;5;241m==\u001B[39m example_date\n",
      "\u001B[0;31mAssertionError\u001B[0m: "
     ]
    }
   ],
   "source": [
    "logging.info(f\"Expect the meta data date field to contain millisecond information\")\n",
    "assert datetime_test_field_value_as_date == example_date\n"
   ],
   "metadata": {
    "collapsed": false,
    "ExecuteTime": {
     "end_time": "2023-08-08T16:09:24.772987Z",
     "start_time": "2023-08-08T16:09:24.758911Z"
    }
   },
   "id": "8cb38f9ed24412e4"
  },
  {
   "cell_type": "markdown",
   "source": [
    "Assert if we round off the `example_date`'s milliseconds it DOES NOT equal the value we fetched from Labelbox"
   ],
   "metadata": {
    "collapsed": false
   },
   "id": "4e5772b0d7b50b7c"
  },
  {
   "cell_type": "code",
   "execution_count": 43,
   "outputs": [
    {
     "name": "stderr",
     "output_type": "stream",
     "text": [
      "INFO:root:Expect that if round off the date (2023-08-07 09:00:05+00:00) it will NOT match what we receive from Labelbox\n"
     ]
    },
    {
     "ename": "AssertionError",
     "evalue": "",
     "output_type": "error",
     "traceback": [
      "\u001B[0;31m---------------------------------------------------------------------------\u001B[0m",
      "\u001B[0;31mAssertionError\u001B[0m                            Traceback (most recent call last)",
      "Cell \u001B[0;32mIn[43], line 4\u001B[0m\n\u001B[1;32m      1\u001B[0m rounded_example_date \u001B[38;5;241m=\u001B[39m example_date\u001B[38;5;241m.\u001B[39mreplace(microsecond\u001B[38;5;241m=\u001B[39m\u001B[38;5;241m0\u001B[39m)\n\u001B[1;32m      3\u001B[0m logging\u001B[38;5;241m.\u001B[39minfo(\u001B[38;5;124mf\u001B[39m\u001B[38;5;124m\"\u001B[39m\u001B[38;5;124mExpect that if round off the date (\u001B[39m\u001B[38;5;132;01m{\u001B[39;00mrounded_example_date\u001B[38;5;132;01m}\u001B[39;00m\u001B[38;5;124m) it will NOT match what we receive from Labelbox\u001B[39m\u001B[38;5;124m\"\u001B[39m)\n\u001B[0;32m----> 4\u001B[0m \u001B[38;5;28;01massert\u001B[39;00m datetime_test_field_value_as_date \u001B[38;5;241m!=\u001B[39m rounded_example_date\n",
      "\u001B[0;31mAssertionError\u001B[0m: "
     ]
    }
   ],
   "source": [
    "rounded_example_date = example_date.replace(microsecond=0)\n",
    "\n",
    "logging.info(f\"Expect that if round off the date ({rounded_example_date}) it will NOT match what we receive from Labelbox\")\n",
    "assert datetime_test_field_value_as_date != rounded_example_date"
   ],
   "metadata": {
    "collapsed": false,
    "ExecuteTime": {
     "end_time": "2023-08-08T16:09:33.464403Z",
     "start_time": "2023-08-08T16:09:33.449322Z"
    }
   },
   "id": "ffa12ebbffe9cbb5"
  },
  {
   "cell_type": "code",
   "execution_count": 44,
   "outputs": [
    {
     "name": "stderr",
     "output_type": "stream",
     "text": [
      "INFO:root:Date value with microseconds that we sent to Labelbox: 2023-08-07 09:00:05.450000+00:00\n",
      "INFO:root:Date value we found on Labelbox (raw): 2023-08-07T09:00:05.000+00:00\n",
      "INFO:root:Date value we found on Labelbox (parsed): 2023-08-07 09:00:05+00:00\n"
     ]
    }
   ],
   "source": [
    "logging.info(f\"Date value with microseconds that we sent to Labelbox: {example_date}\")\n",
    "logging.info(f\"Date value we found on Labelbox (raw): {datetime_test_field_value_raw}\")\n",
    "logging.info(f\"Date value we found on Labelbox (parsed): {datetime_test_field_value_as_date}\")"
   ],
   "metadata": {
    "collapsed": false,
    "ExecuteTime": {
     "end_time": "2023-08-08T16:09:33.806855Z",
     "start_time": "2023-08-08T16:09:33.803944Z"
    }
   },
   "id": "29e63d273f04ad43"
  },
  {
   "cell_type": "code",
   "execution_count": null,
   "outputs": [],
   "source": [],
   "metadata": {
    "collapsed": false
   },
   "id": "70420d45ea4bc93d"
  }
 ],
 "metadata": {
  "kernelspec": {
   "name": "labelbox-demo-date-metadata-field-bug",
   "language": "python",
   "display_name": "labelbox-demo-date-metadata-field-bug"
  },
  "language_info": {
   "codemirror_mode": {
    "name": "ipython",
    "version": 2
   },
   "file_extension": ".py",
   "mimetype": "text/x-python",
   "name": "python",
   "nbconvert_exporter": "python",
   "pygments_lexer": "ipython2",
   "version": "2.7.6"
  }
 },
 "nbformat": 4,
 "nbformat_minor": 5
}
